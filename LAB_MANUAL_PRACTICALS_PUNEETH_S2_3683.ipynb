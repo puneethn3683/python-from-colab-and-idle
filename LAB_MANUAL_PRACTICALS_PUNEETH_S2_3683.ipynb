{
  "cells": [
    {
      "cell_type": "markdown",
      "metadata": {
        "id": "view-in-github",
        "colab_type": "text"
      },
      "source": [
        "<a href=\"https://colab.research.google.com/github/puneethn3683/python-from-colab-and-idle/blob/main/LAB_MANUAL_PRACTICALS_PUNEETH_S2_3683.ipynb\" target=\"_parent\"><img src=\"https://colab.research.google.com/assets/colab-badge.svg\" alt=\"Open In Colab\"/></a>"
      ]
    },
    {
      "cell_type": "markdown",
      "metadata": {
        "id": "_A4fQG6hqtSE"
      },
      "source": [
        "## ***N.PUNEETH_S2_3683 IP LAB WORK (11TH) PYTHON***\n",
        "\n",
        "\n",
        "\n",
        "\n",
        "\n",
        "\n",
        "\n",
        "\n",
        "\n",
        "\n"
      ]
    },
    {
      "cell_type": "code",
      "execution_count": null,
      "metadata": {
        "colab": {
          "base_uri": "https://localhost:8080/"
        },
        "id": "lyv67PJZZFt4",
        "outputId": "bf8cf201-eaa3-4728-a475-91048abd5f76"
      },
      "outputs": [
        {
          "output_type": "stream",
          "name": "stdout",
          "text": [
            "ENTER STUDENT NAME:Puneeth\n",
            "ENTER STUDENT ID:HVS3683\n",
            "ENTER STUDENT CLASS:12\n",
            "ENTER STUDENT SECTION:S2\n",
            "ENTER SUBJECT 1:Maths\n",
            "ENTER MARKS IN SUBJECT 1:100\n",
            "ENTER SUBJECT 2:Physics\n",
            "ENTER MARKS IN SUBJECT 2:85\n",
            "ENTER SUBJECT 3:Chemistry\n",
            "ENTER MARKS IN SUBJECT 3:90\n",
            "ENTER SUBJECT 4:English\n",
            "ENTER MARKS IN SUBJECT 4:85\n",
            "ENTER SUBJECT 5:IP\n",
            "ENTER MARKS IN SUBJECT 5:100\n",
            "-------------------------------------------------------------\n",
            "\t\tHAPPY VALLEY SCHOOL\n",
            "-------------------------------------------------------------\n",
            "PROGRESS REPORT OF Puneeth\n",
            "-------------------------------------------------------------\n",
            "STUDENT NAME: Puneeth\n",
            "STUDENT ID: HVS3683\n",
            "CLASS: 12\n",
            "SECTION: S2\n",
            "1st SUBJECT: Maths\n",
            "MARKS IN: Maths : 100\n",
            "2nd SUBJECT: Physics\n",
            "MARKS IN: Physics : 85\n",
            "3rd SUBJECT: Chemistry\n",
            "MARKS IN: Chemistry : 90\n",
            "4th SUBJECT: English\n",
            "MARKS IN English : 85\n",
            "5th SUBJECT: IP\n",
            "MARKS IN IP : 100\n",
            "TOTAL MARKS: 460\n",
            "AVERAGE MARKS: 92\n",
            "GRADE: A\n",
            "RESULT: VERY GOOD\n",
            "-------------------------------------------------------------\n"
          ]
        }
      ],
      "source": [
        "1.# To find average and grade for given marks.\n",
        "\n",
        "\n",
        "n=input('ENTER STUDENT NAME:')\n",
        "sid=input('ENTER STUDENT ID:')\n",
        "c=input('ENTER STUDENT CLASS:')\n",
        "sec=input('ENTER STUDENT SECTION:')\n",
        "sub1=input('ENTER SUBJECT 1:')\n",
        "m1=int(input('ENTER MARKS IN SUBJECT 1:'))\n",
        "sub2=input('ENTER SUBJECT 2:')\n",
        "m2=int(input('ENTER MARKS IN SUBJECT 2:'))\n",
        "sub3=input('ENTER SUBJECT 3:')\n",
        "m3=int(input('ENTER MARKS IN SUBJECT 3:'))\n",
        "sub4=input('ENTER SUBJECT 4:')\n",
        "m4=int(input('ENTER MARKS IN SUBJECT 4:'))\n",
        "sub5=input('ENTER SUBJECT 5:')\n",
        "m5=int(input('ENTER MARKS IN SUBJECT 5:'))\n",
        "tot=m1+m2+m3+m4+m5\n",
        "avg=tot//5\n",
        "if m1<40 or m2<40 or m3<40 or m4<40 or m5<40:\n",
        "  msg='FAILED'\n",
        "  GRADE='F'\n",
        "elif avg>=95:\n",
        "  msg='DISTINCTION'\n",
        "  GRADE='A+'\n",
        "elif avg>=85:\n",
        "  msg='VERY GOOD'\n",
        "  GRADE='A'\n",
        "else:\n",
        "  msg='GOOD'\n",
        "  GRADE='B'\n",
        "\n",
        "print('-------------------------------------------------------------')\n",
        "print('\\t\\tHAPPY VALLEY SCHOOL')\n",
        "print('-------------------------------------------------------------')\n",
        "print('PROGRESS REPORT OF',n)\n",
        "print('-------------------------------------------------------------')\n",
        "print('STUDENT NAME:',n)\n",
        "print('STUDENT ID:',sid)\n",
        "print('CLASS:',c)\n",
        "print('SECTION:',sec)\n",
        "print('1st SUBJECT:',sub1)\n",
        "print('MARKS IN:',sub1,':',m1)\n",
        "print('2nd SUBJECT:',sub2)\n",
        "print('MARKS IN:',sub2,':',m2)\n",
        "print('3rd SUBJECT:',sub3)\n",
        "print('MARKS IN:',sub3,':',m3)\n",
        "print('4th SUBJECT:',sub4)\n",
        "print('MARKS IN',sub4,':',m4)\n",
        "print('5th SUBJECT:',sub5)\n",
        "print('MARKS IN',sub5,':',m5)\n",
        "print('TOTAL MARKS:',tot)\n",
        "print('AVERAGE MARKS:',avg)\n",
        "print('GRADE:',GRADE)\n",
        "print('RESULT:',msg)\n",
        "print('-------------------------------------------------------------')\n"
      ]
    },
    {
      "cell_type": "code",
      "execution_count": null,
      "metadata": {
        "colab": {
          "base_uri": "https://localhost:8080/"
        },
        "collapsed": true,
        "id": "eVQn83w-o9P0",
        "outputId": "c7aff815-22e3-46e9-9034-4e4790f31bc8"
      },
      "outputs": [
        {
          "name": "stdout",
          "output_type": "stream",
          "text": [
            "ENTER COST OF AN ITEM:250\n",
            "ENTER DISCOUNT PERCENTAGE:10\n",
            "SALE PRICE OF AN ITEM: 225.0\n"
          ]
        }
      ],
      "source": [
        "2.#To find sale price of an item with given cost and discount (%).\n",
        "cost=float(input('ENTER COST OF AN ITEM:'))\n",
        "dp=float(input('ENTER DISCOUNT PERCENTAGE:'))\n",
        "sp=cost-(cost*(dp/100))\n",
        "print('------------------------')\n",
        "print('COST OF AN ITEM:',cost)\n",
        "print('DISCOUNT PERCENTAGE:',dp)\n",
        "print('------------------------')\n",
        "print('SALE PRICE OF AN ITEM:',sp)"
      ]
    },
    {
      "cell_type": "code",
      "execution_count": null,
      "metadata": {
        "colab": {
          "base_uri": "https://localhost:8080/"
        },
        "id": "TK1MbYK2XxTk",
        "outputId": "6ac44e1e-a1bf-416f-9a37-b81320a9dc06",
        "collapsed": true
      },
      "outputs": [
        {
          "output_type": "stream",
          "name": "stdout",
          "text": [
            "Enter the length of base of triangle25\n",
            "Enter the height of triangle250\n",
            "Enter the value of side20\n",
            "------------------------------------------\n",
            "\t\tGEOMETRY CALCULATOR Of TRIANGLE\n",
            "------------------------------------------\n",
            "Length of Base of Triangle= 25.0\n",
            "Height of Triangle= 250.0\n",
            "Side of Triangle= 20.0\n",
            "------------------------------------------\n",
            "Area of Triangle= 3125.0\n",
            "Perimeter of Triangle= 295.0\n",
            "-----------------------------------------------------------------\n"
          ]
        }
      ],
      "source": [
        "3.#Area, Perimeter of triangle\n",
        "length=float(input('Enter the length of base of triangle'))\n",
        "height=float(input('Enter the height of triangle'))\n",
        "side=float(input('Enter the value of side'))\n",
        "area=(1/2)*(length)*(height)\n",
        "perimeter=length+height+side\n",
        "print('------------------------------------------')\n",
        "print('\\t\\tGEOMETRY CALCULATOR Of TRIANGLE')\n",
        "print('------------------------------------------')\n",
        "print('Length of Base of Triangle=',length)\n",
        "print('Height of Triangle=',height)\n",
        "print('Side of Triangle=',side)\n",
        "print('------------------------------------------')\n",
        "print('Area of Triangle=',area)\n",
        "print('Perimeter of Triangle=',perimeter)\n",
        "print('-----------------------------------------------------------------')\n",
        "\n",
        "\n",
        "\n"
      ]
    },
    {
      "cell_type": "code",
      "source": [
        "#Area, Perimeter of Rectangle\n",
        "\n",
        "side1=float(input('Enter the value of side 1 of rectangle:'))\n",
        "side2=float(input('Enter the value of side 2 of rectangle:'))\n",
        "area=side1*side2\n",
        "perimeter=2*(side1+side2)\n",
        "print('--------------------------------------------------')\n",
        "print('\\t\\tGEOMETRY CALCULATOR Of RECTANGLE',)\n",
        "print('--------------------------------------------------')\n",
        "print(' value of side 1 of rectangle=',side1)\n",
        "print(' value of side 2 of rectangle=',side2)\n",
        "print('--------------------------------------------------')\n",
        "print('Area of Rectangle=',area)\n",
        "print('Perimeter of Rectangle=',perimeter)\n",
        "print('-----------------------------------------------------------------')\n"
      ],
      "metadata": {
        "id": "o860c42qeKRb",
        "colab": {
          "base_uri": "https://localhost:8080/"
        },
        "outputId": "52ee4458-b45a-4600-ef89-83f51c8660e1",
        "collapsed": true
      },
      "execution_count": null,
      "outputs": [
        {
          "output_type": "stream",
          "name": "stdout",
          "text": [
            "Enter the value of side 1 of rectangle:15\n",
            "Enter the value of side 2 of rectangle:12\n",
            "--------------------------------------------------\n",
            "\t\tGEOMETRY CALCULATOR Of RECTANGLE\n",
            "--------------------------------------------------\n",
            "Enter the value of side 1 of Rectangle= 15.0\n",
            "Enter the value of side 2 of Rectangle= 12.0\n",
            "--------------------------------------------------\n",
            "Area of Rectangle= 180.0\n",
            "Perimeter of Rectangle= 54.0\n",
            "-----------------------------------------------------------------\n"
          ]
        }
      ]
    },
    {
      "cell_type": "code",
      "source": [
        "#Area, Perimeter of Square\n",
        "side=float(input('Enter the value of side of Square'))\n",
        "area=side**2\n",
        "perimeter=side*4\n",
        "print('--------------------------------------------')\n",
        "print('\\t\\tGEOMETRY CALCULATOR Of SQUARE')\n",
        "print('--------------------------------------------')\n",
        "print(' value of side of Square=',side)\n",
        "print('--------------------------------------------')\n",
        "print('Area Of Square=',area)\n",
        "print('--------------------------------------------')\n",
        "print('Perimeter of Square=',perimeter)\n",
        "print('-----------------------------------------------------------------')\n"
      ],
      "metadata": {
        "id": "ncJFSHzqeO1S",
        "colab": {
          "base_uri": "https://localhost:8080/"
        },
        "collapsed": true,
        "outputId": "bde40b6b-71e4-4413-9a85-1993fb271b65"
      },
      "execution_count": null,
      "outputs": [
        {
          "output_type": "stream",
          "name": "stdout",
          "text": [
            "Enter the value of side of Square10\n",
            "--------------------------------------------\n",
            "\t\tGEOMETRY CALCULATOR Of SQUARE\n",
            "--------------------------------------------\n",
            "Enter the value of side of Square= 10.0\n",
            "--------------------------------------------\n",
            "Area Of Square= 100.0\n",
            "--------------------------------------------\n",
            "Perimeter of Square= 40.0\n",
            "-----------------------------------------------------------------\n"
          ]
        }
      ]
    },
    {
      "cell_type": "code",
      "source": [
        "#Area, Circumference Of Circle\n",
        "radius=float(input('Enter the value of Radius of Circle'))\n",
        "area=(22/7)*(radius**2)\n",
        "perimeter=(2)*(22/7)*(radius)\n",
        "print('\\t\\tGEOMETRY CALCULATOR Of CIRCLE')\n",
        "print('-----------------------------------------------------------------')\n",
        "print(' value of radius of Circle=',radius)\n",
        "print('-----------------------------------------------------------------')\n",
        "print('Area Of Circle=',area)\n",
        "print('-----------------------------------------------------------------------')\n",
        "print('Perimeter of Circle=',perimeter)\n",
        "print('-----------------------------------------------------------------------')\n"
      ],
      "metadata": {
        "id": "F0XBpJb7eUrM",
        "colab": {
          "base_uri": "https://localhost:8080/"
        },
        "collapsed": true,
        "outputId": "2e8b4d62-efc1-48bd-cff5-43607e3f2b5c"
      },
      "execution_count": null,
      "outputs": [
        {
          "output_type": "stream",
          "name": "stdout",
          "text": [
            "Enter the value of Radius of Circle10\n",
            "\t\tGEOMETRY CALCULATOR Of CIRCLE\n",
            "-----------------------------------------------------------------\n",
            " value of radius of Circle= 10.0\n",
            "-----------------------------------------------------------------\n",
            "Area Of Circle= 314.2857142857143\n",
            "-----------------------------------------------------------------------\n",
            "Perimeter of Circle= 62.857142857142854\n",
            "-----------------------------------------------------------------------\n"
          ]
        }
      ]
    },
    {
      "cell_type": "code",
      "execution_count": null,
      "metadata": {
        "colab": {
          "base_uri": "https://localhost:8080/"
        },
        "collapsed": true,
        "id": "pVel_3RiqrfE",
        "outputId": "637eff08-dc6a-46bd-811e-687e552fedf4"
      },
      "outputs": [
        {
          "name": "stdout",
          "output_type": "stream",
          "text": [
            "ENTER PRINCIPAL LOAN AMOUNT:25000\n",
            "ENTER TIME PERIOD IN YEARS:1\n",
            "ENTER RATE OF INTEREST:2.\n",
            "ENTER NUMBER OF TIMES INTEREST IS COMPOUNDED PER YEAR:06\n",
            "--------------------------------\n",
            "PRINCIPAL LOAN AMOUNT: 25000.0\n",
            "TIME PERIOD IN YEARS: 1\n",
            "RATE OF INTEREST: 2.0\n",
            "NUMBER OF TIMES INTEREST IS COMPOUNDED PER YEAR: 6\n",
            "--------------------------------\n",
            "SIMPLE INTEREST: 500.0\n",
            "COMPUND INTEREST: 25000.0\n"
          ]
        }
      ],
      "source": [
        "4.#To calculate Simple and Compound interest.\n",
        "p=float(input('ENTER PRINCIPAL LOAN AMOUNT:'))\n",
        "t=int(input('ENTER TIME PERIOD IN YEARS:'))\n",
        "r=float(input('ENTER RATE OF INTEREST:'))\n",
        "n=int(input('ENTER NUMBER OF TIMES INTEREST IS COMPOUNDED PER YEAR:'))\n",
        "si=(p*t*r)/100\n",
        "ci=p*(1+(r/100)/n)**(n*t)\n",
        "print('--------------------------------')\n",
        "print('SIMPLE INTEREST CALCULATOR')\n",
        "print('--------------------------------')\n",
        "print('PRINCIPAL LOAN AMOUNT:',p)\n",
        "print('TIME PERIOD IN YEARS:',t)\n",
        "print('RATE OF INTEREST:',r)\n",
        "print('NUMBER OF TIMES INTEREST IS COMPOUNDED PER YEAR:',n)\n",
        "print('--------------------------------')\n",
        "print('SIMPLE INTEREST:',si)\n",
        "print('COMPUND INTEREST:',ci)"
      ]
    },
    {
      "cell_type": "code",
      "execution_count": null,
      "metadata": {
        "colab": {
          "base_uri": "https://localhost:8080/"
        },
        "collapsed": true,
        "id": "Q4W2CkOvwmaq",
        "outputId": "09e6283c-06e9-4d31-b9d6-23b651e248c3"
      },
      "outputs": [
        {
          "name": "stdout",
          "output_type": "stream",
          "text": [
            "ENTER COST PRICE:250\n",
            "ENTER SELLING PRICE:260\n",
            "PROFIT OF 10.0\n"
          ]
        }
      ],
      "source": [
        "5.#To calculate profit-loss for given Cost and Sell Price.\n",
        "cp=float(input('ENTER COST PRICE:'))\n",
        "sp=float(input('ENTER SELLING PRICE:'))\n",
        "p=sp-cp\n",
        "l=cp-sp\n",
        "if cp>sp:\n",
        "  print('LOSS OF',l)\n",
        "else:\n",
        "  print('PROFIT OF',p)"
      ]
    },
    {
      "cell_type": "code",
      "execution_count": null,
      "metadata": {
        "colab": {
          "base_uri": "https://localhost:8080/"
        },
        "collapsed": true,
        "id": "Ik2dl2wDx2oi",
        "outputId": "3afb1461-ef16-4e81-c58f-67d5ad28e863"
      },
      "outputs": [
        {
          "name": "stdout",
          "output_type": "stream",
          "text": [
            "Enter the rate of amount2500\n",
            "Enter the amount120\n",
            "Enter the time period in years1\n",
            "-----------------------------\n",
            "RATE OF AMOUNT: 2500.0\n",
            "AMOUNT: 120\n",
            "TIME PERIOD IN YEARS: 1\n",
            "-----------------------------\n",
            "INTREST: 3000.0\n",
            "TOTAL AMOUNT: 3120.0\n",
            "EMI: 260.0\n",
            "-----------------------------\n"
          ]
        }
      ],
      "source": [
        "6# WAP To calculate EMI for Amount, Period and Interest.\n",
        "rate=float(input('Enter the rate of amount'))\n",
        "amount=int(input('Enter the amount'))\n",
        "period=int(input('Enter the time period in years'))\n",
        "intrest=amount*period*rate/100\n",
        "tot=amount+intrest\n",
        "emi=tot/(period*12)\n",
        "print('-----------------------------')\n",
        "print('\\t\\tEMI CALCULATOR')\n",
        "print('-----------------------------')\n",
        "print('RATE OF AMOUNT:',rate)\n",
        "print('LOAN AMOUNT:',amount)\n",
        "print('TIME PERIOD IN YEARS:',period)\n",
        "print('-----------------------------')\n",
        "print('INTREST:',intrest)\n",
        "print('TOTAL AMOUNT:',tot)\n",
        "print('EMI:',emi)\n",
        "print('-----------------------------')\n"
      ]
    },
    {
      "cell_type": "code",
      "execution_count": null,
      "metadata": {
        "colab": {
          "base_uri": "https://localhost:8080/"
        },
        "collapsed": true,
        "id": "8FF3hIhVk1VG",
        "outputId": "38e3cd68-8528-4c4b-d07a-46605ee7617d"
      },
      "outputs": [
        {
          "name": "stdout",
          "output_type": "stream",
          "text": [
            "Enter the annual income250000\n",
            "Income Tax to pay 7500.0\n"
          ]
        }
      ],
      "source": [
        "#7. To calculate  Income Tax.\n",
        "income=float(input('Enter the annual income'))\n",
        "if income<100000:\n",
        "    tax=0(No Need To Pay IT)\n",
        "elif income<500000:\n",
        "    tax=(income-100000)*0.05\n",
        "elif income<600000:\n",
        "    tax=(income-500000)*0.07+10000\n",
        "else :\n",
        "    tax=(income-600000)*0.1+38000\n",
        "print('Income Tax to pay',tax)\n",
        "\n",
        "\n"
      ]
    },
    {
      "cell_type": "code",
      "execution_count": null,
      "metadata": {
        "colab": {
          "base_uri": "https://localhost:8080/"
        },
        "collapsed": true,
        "id": "8PXt7TBPlFp9",
        "outputId": "cdafd271-4ed4-44ed-99d8-c3b1d428bfc2"
      },
      "outputs": [
        {
          "name": "stdout",
          "output_type": "stream",
          "text": [
            "Enter the cost:250\n",
            "Enter the % charged for gst:1.5\n",
            "GST: 3.75\n",
            "Amount to Pay: 253.75\n"
          ]
        }
      ],
      "source": [
        "#wap to calculate gst\n",
        "cost=float(input('Enter the cost:'))\n",
        "gstper=float(input('Enter the % charged for gst:'))\n",
        "gst=cost*gstper/100\n",
        "amount=cost+gst\n",
        "print('GST:',gst)\n",
        "print('Amount to Pay:',amount)"
      ]
    },
    {
      "cell_type": "code",
      "execution_count": null,
      "metadata": {
        "colab": {
          "base_uri": "https://localhost:8080/"
        },
        "collapsed": true,
        "id": "8QsyGKkOl7f1",
        "outputId": "d4fce679-d419-45b1-821d-cec2e8780a01"
      },
      "outputs": [
        {
          "name": "stdout",
          "output_type": "stream",
          "text": [
            "Enter the numbers:5\n",
            "Enter list element:56\n",
            "Enter list element:78\n",
            "Enter list element:34\n",
            "Enter list element:11\n",
            "Enter list element:88\n",
            "The list is:  [56, 78, 34, 11, 88]\n",
            "The largest number in the list is: 88\n",
            "The smallest number in the list is: 11\n"
          ]
        }
      ],
      "source": [
        "8.#To find the largest and smallest numbers in a list.\n",
        "numbers = int(input('Enter the numbers:'))\n",
        "L=[]\n",
        "for x in range(1,numbers+1):\n",
        "  val=int(input('Enter list element:'))\n",
        "  L.append(val)\n",
        "largestnumber = max(L)\n",
        "smallestnumber = min(L)\n",
        "print(\"The list is: \",L)\n",
        "print(\"The largest number in the list is:\",largestnumber)\n",
        "print(\"The smallest number in the list is:\",smallestnumber)"
      ]
    },
    {
      "cell_type": "code",
      "execution_count": null,
      "metadata": {
        "colab": {
          "base_uri": "https://localhost:8080/"
        },
        "collapsed": true,
        "id": "SRdaXZElLWxc",
        "outputId": "76140f94-7902-4595-b2a6-4fac2a38ecb4"
      },
      "outputs": [
        {
          "output_type": "stream",
          "name": "stdout",
          "text": [
            "ATLEAST GIVE 7 NUMBERS\n",
            "Enter the numbers :7\n",
            "Enter list element:15\n",
            "Enter list element:12\n",
            "Enter list element:13\n",
            "Enter list element:17\n",
            "Enter list element:20\n",
            "Enter list element:15\n",
            "Enter list element:19\n",
            "The list is: [12, 13, 15, 15, 17, 19, 20]\n",
            "The third largest number in the list is: 17\n",
            "The third smallest number in the list is: 15\n"
          ]
        }
      ],
      "source": [
        "# 9.# wap To find the third largest/smallest number in a list.\n",
        "print('ATLEAST GIVE 7 NUMBERS')\n",
        "numbers = int(input('Enter the numbers :'))\n",
        "L = []\n",
        "for x in range(1,numbers+1):\n",
        "    val=int(input('Enter list element:'))\n",
        "    L.append(val)\n",
        "L.sort()\n",
        "print('The list is:', L)\n",
        "print('The third largest number in the list is:', L[-3])\n",
        "print('The third smallest number in the list is:', L[2])\n",
        "\n"
      ]
    },
    {
      "cell_type": "code",
      "execution_count": null,
      "metadata": {
        "colab": {
          "base_uri": "https://localhost:8080/"
        },
        "collapsed": true,
        "id": "RFIWjCCBO6Cp",
        "outputId": "2a2bc28b-1ac3-4674-fbe3-e26b291bf971"
      },
      "outputs": [
        {
          "name": "stdout",
          "output_type": "stream",
          "text": [
            "The sum of squares of the first 100 natural numbers is: 338350\n"
          ]
        }
      ],
      "source": [
        "10.#To find the sum of squares of the first 100 natural numbers.\n",
        "sum = 0\n",
        "for x in range(1, 101):\n",
        "  sum=sum+x ** 2\n",
        "print('The sum of squares of the first 100 natural numbers is:',sum)"
      ]
    },
    {
      "cell_type": "code",
      "execution_count": null,
      "metadata": {
        "colab": {
          "base_uri": "https://localhost:8080/"
        },
        "collapsed": true,
        "id": "jmCZGKEisrEr",
        "outputId": "9f838400-f056-4503-c90f-49d707909fd0"
      },
      "outputs": [
        {
          "name": "stdout",
          "output_type": "stream",
          "text": [
            "Enter the number: 10\n",
            "Enter how many multiples to print: 10\n",
            "The  multiples are: 10\n",
            "10\n",
            "20\n",
            "30\n",
            "40\n",
            "50\n",
            "60\n",
            "70\n",
            "80\n",
            "90\n",
            "100\n"
          ]
        }
      ],
      "source": [
        "11.#To print the first ‘n’ multiples of given number.\n",
        "number = int(input('Enter the number: '))\n",
        "n = int(input('Enter how many multiples to print: '))\n",
        "print('The  multiples of',number)\n",
        "for i in range(1, n + 1):\n",
        "  multiple = number * i\n",
        "  print(multiple)"
      ]
    },
    {
      "cell_type": "code",
      "execution_count": null,
      "metadata": {
        "colab": {
          "base_uri": "https://localhost:8080/"
        },
        "collapsed": true,
        "id": "5-oGDn0vy1if",
        "outputId": "ab93e691-c77f-48e5-bfaf-22bd5b2c5d5a"
      },
      "outputs": [
        {
          "name": "stdout",
          "output_type": "stream",
          "text": [
            "DO NOT USE SPECIAL CHARACTERS OR SPACES \n",
            "Enter word:ABCDEF\n",
            "Number of vowels are:\n",
            "2\n",
            "Number of consonants are:\n",
            "4\n"
          ]
        }
      ],
      "source": [
        "#12.To count the number of vowels in user entered string.\n",
        "print('DO NOT USE SPECIAL CHARACTERS OR SPACES ')\n",
        "word=input('Enter word:')\n",
        "vowels=0\n",
        "for i in word:\n",
        "      if(i=='a' or i=='e' or i=='i' or i=='o' or i=='u' or i=='A' or i=='E' or i=='I' or i=='O' or i=='U'):\n",
        "            vowels=vowels+1\n",
        "consonants=len(word)-vowels\n",
        "print('Number of vowels are:',vowels)\n",
        "print('Number of consonants are:',consonants)\n"
      ]
    },
    {
      "cell_type": "code",
      "source": [
        "#13.wap To print the words starting with an alphabet in a user entered string.\n",
        "\n",
        "sentence = input(\"Enter a sentence: \")\n",
        "letter = input(\"Enter the starting letter to search for: \")\n",
        "letter = letter.lower()\n",
        "words = sentence.split()\n",
        "sameword = []\n",
        "for word in words:\n",
        "    if word.lower().startswith(letter):\n",
        "        sameword.append(word)\n",
        "print(\"Words starting with '{}':\".format(letter))\n",
        "for word in sameword:\n",
        "    print(word)\n"
      ],
      "metadata": {
        "colab": {
          "base_uri": "https://localhost:8080/"
        },
        "id": "3UUkrLoq5Zre",
        "outputId": "80f47ea9-6609-4b1c-9069-2b18850c08cb",
        "collapsed": true
      },
      "execution_count": null,
      "outputs": [
        {
          "output_type": "stream",
          "name": "stdout",
          "text": [
            "Enter a sentence: my name is puneeth \n",
            "Enter the starting letter to search for: p\n",
            "Words starting with 'p':\n",
            "puneeth\n"
          ]
        }
      ]
    },
    {
      "cell_type": "code",
      "execution_count": null,
      "metadata": {
        "id": "qPyxsaCvc1bL",
        "colab": {
          "base_uri": "https://localhost:8080/"
        },
        "outputId": "9b60936a-79da-4512-d0a6-77487a640cbd",
        "collapsed": true
      },
      "outputs": [
        {
          "output_type": "stream",
          "name": "stdout",
          "text": [
            "Enter a sentence: puneeth\n",
            "p : 1\n",
            "u : 1\n",
            "n : 1\n",
            "e : 2\n",
            "t : 1\n",
            "h : 1\n"
          ]
        }
      ],
      "source": [
        "#14.To print number of occurrences of  alphabets in each string.\n",
        "sentence= input(\"Enter a sentence: \")\n",
        "L = {}\n",
        "for letter in sentence:\n",
        "  if letter in L:\n",
        "    L[letter] = L[letter] + 1\n",
        "  else:\n",
        "    L[letter] = 1\n",
        "for word in L:\n",
        "  print(word,':',L[word])"
      ]
    },
    {
      "cell_type": "code",
      "execution_count": null,
      "metadata": {
        "colab": {
          "base_uri": "https://localhost:8080/"
        },
        "collapsed": true,
        "id": "h0xOmJTJx0NP",
        "outputId": "4e873cb8-08dc-44a1-9550-9d2e6cb28ad8"
      },
      "outputs": [
        {
          "name": "stdout",
          "output_type": "stream",
          "text": [
            "Enter the number of states: 1\n",
            "Enter the name of the state: ap\n",
            "Enter the capital of the state: amaravati\n",
            "State AND Capitals: {'ap': 'amaravati'}\n"
          ]
        }
      ],
      "source": [
        "#15.Create a dictionary to store names of states and their capitals.\n",
        "f = {}\n",
        "n = int(input('Enter the number of states: '))\n",
        "for i in range(n):\n",
        "  state = input('Enter the name of the state: ')\n",
        "  capital = input('Enter the capital of the state: ')\n",
        "  f[state] = capital\n",
        "print('State AND Capitals:', f)"
      ]
    },
    {
      "cell_type": "code",
      "execution_count": null,
      "metadata": {
        "colab": {
          "base_uri": "https://localhost:8080/"
        },
        "collapsed": true,
        "id": "fBi6ImtRuhGB",
        "outputId": "bfab6b93-c61b-46d3-affc-72c8e1e64778"
      },
      "outputs": [
        {
          "output_type": "stream",
          "name": "stdout",
          "text": [
            "Enter the number of students:2\n",
            "Enter the number of subjects:2\n",
            "Enter the name of the student:shiva\n",
            "ENTER MARKS IN SUBJECT: 1\n",
            "100\n",
            "ENTER MARKS IN SUBJECT: 2\n",
            "100\n",
            "shiva [100, 100, 200, 100.0, 'PASS']\n",
            "Enter the name of the student:guru\n",
            "ENTER MARKS IN SUBJECT: 1\n",
            "95\n",
            "ENTER MARKS IN SUBJECT: 2\n",
            "80\n",
            "shiva [100, 100, 200, 100.0, 'PASS']\n",
            "guru [95, 80, 175, 87.5, 'PASS']\n"
          ]
        }
      ],
      "source": [
        "# 16.Create a dictionary of students to store 'n' names and marks obtained in 'm' subjects.\n",
        "studmarks={}\n",
        "n=int(input('Enter the number of students:'))\n",
        "m=int(input('Enter the number of subjects:'))\n",
        "for x in range(1,n+1):\n",
        "  name=input('Enter the name of the student:')\n",
        "  tot=0\n",
        "  marks=[]\n",
        "  for y in range(1,m+1):\n",
        "      print('ENTER MARKS IN SUBJECT:',y)\n",
        "      mos=int(input())\n",
        "      marks.append(mos)\n",
        "      tot=tot+mos\n",
        "  avg=tot/m\n",
        "  marks.append(tot)\n",
        "  marks.append(avg)\n",
        "  if avg<40:\n",
        "    marks.append('FAIL')\n",
        "  else:\n",
        "    marks.append('PASS')\n",
        "  studmarks[name]=marks\n",
        "  for x,y in studmarks.items():\n",
        "    print(x,y)\n"
      ]
    },
    {
      "cell_type": "code",
      "execution_count": null,
      "metadata": {
        "colab": {
          "base_uri": "https://localhost:8080/"
        },
        "collapsed": true,
        "id": "idoX4Ok7iIOU",
        "outputId": "ff8fb6bc-bfce-4428-c951-340fa8a8546b"
      },
      "outputs": [
        {
          "output_type": "stream",
          "name": "stdout",
          "text": [
            "Enter the numbers :5\n",
            "Enter list element:20\n",
            "Enter list element:15\n",
            "Enter list element:26\n",
            "Enter list element:13\n",
            "Enter list element:25\n",
            "The list is: [13, 15, 20, 25, 26]\n",
            "The highest value in the list is: 26\n",
            "The lowest value in the list is: 13\n",
            "------------------------------------------\n"
          ]
        }
      ],
      "source": [
        "#17.To print the highest and lowest values in the dictionary.\n",
        "numbers = int(input('Enter the numbers :'))\n",
        "L = []\n",
        "for x in range(1,numbers+1):\n",
        "  val=int(input('Enter list element:'))\n",
        "  L.append(val)\n",
        "L.sort()\n",
        "print('The list is:', L)\n",
        "print('The highest value in the list is:', L[-1])\n",
        "print('The lowest value in the list is:', L[0])\n",
        "print('------------------------------------------')"
      ]
    },
    {
      "cell_type": "code",
      "source": [
        "#13.WAP  to  print the words starting with an alphabet in a user entered string\n",
        "\n",
        "sentence = input(\"Enter a string: \")\n",
        "alphabet = input(\"Enter the starting alphabet: \")\n",
        "index = 0\n",
        "word = []\n",
        "while index < len(sentence):\n",
        "    i = sentence[index]\n",
        "    if i == [] or index == len(sentence) - 1:\n",
        "        if index == len(sentence) - 1 and i != []:\n",
        "            word.append(i)\n",
        "        if word and word[0].lower() == alphabet.lower():\n",
        "            print(\"\".join(word))\n",
        "        word = []\n",
        "    else:\n",
        "       word.append(i)\n",
        "    index=index+1"
      ],
      "metadata": {
        "colab": {
          "base_uri": "https://localhost:8080/"
        },
        "id": "Zeaai2-KlyBg",
        "outputId": "34de8aec-f30b-4812-bdda-b26894fdfea8"
      },
      "execution_count": null,
      "outputs": [
        {
          "output_type": "stream",
          "name": "stdout",
          "text": [
            "Enter a string: puneeth\n",
            "Enter the starting alphabet: p\n",
            "puneeth\n"
          ]
        }
      ]
    },
    {
      "cell_type": "code",
      "source": [
        "names"
      ],
      "metadata": {
        "id": "qKlV6B9j5Y-d"
      },
      "execution_count": null,
      "outputs": []
    }
  ],
  "metadata": {
    "colab": {
      "provenance": [],
      "include_colab_link": true
    },
    "kernelspec": {
      "display_name": "Python 3",
      "name": "python3"
    },
    "language_info": {
      "name": "python"
    }
  },
  "nbformat": 4,
  "nbformat_minor": 0
}